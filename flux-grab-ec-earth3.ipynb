{
 "cells": [
  {
   "cell_type": "markdown",
   "metadata": {},
   "source": [
    "# Import Packages"
   ]
  },
  {
   "cell_type": "code",
   "execution_count": 1,
   "metadata": {},
   "outputs": [],
   "source": [
    "from zipfile import ZipFile\n",
    "import xml.sax, xml.sax.handler\n",
    "import os\n",
    "import numpy as np\n",
    "import xarray as xr\n",
    "import pickle\n",
    "from shapely.geometry import Polygon, LineString\n",
    "import utm\n",
    "from pyproj import Proj\n",
    "import matplotlib.pyplot as plt\n",
    "import matplotlib.colors as colors\n",
    "plt.rcParams['figure.figsize'] = 18, 9\n",
    "plt.rcParams['figure.facecolor'] = 'white'"
   ]
  },
  {
   "cell_type": "markdown",
   "metadata": {},
   "source": [
    "# Define functions"
   ]
  },
  {
   "cell_type": "code",
   "execution_count": 2,
   "metadata": {},
   "outputs": [],
   "source": [
    "def get_flux(p,u,v,z,g,rho_f,z0,kappa,fluxconstant,usimth,pth): #martin and kok 2017\n",
    "\n",
    "    U  = (u**2+v**2)**0.5\n",
    "    us = U*kappa/np.log(z/z0)\n",
    "    \n",
    "    qm = np.copy(fluxconstant*usimth/g*rho_f*(us**2-usimth**2))\n",
    "    qa = np.copy(np.arctan2(v,u))\n",
    "    \n",
    "    qm[(us<usimth)|(p>pth)] = 0\n",
    "    qa[(us<usimth)|(p>pth)] = np.nan\n",
    "    return qm,qa\n",
    "\n",
    "def get_impact_threshold(d,g,rho_f,rho_s,thresholdconstant): #bagnold 1941\n",
    "    return thresholdconstant*((rho_s-rho_f)/rho_f*g*d)**0.5"
   ]
  },
  {
   "cell_type": "code",
   "execution_count": 8,
   "metadata": {},
   "outputs": [],
   "source": [
    "scenario = 'historical'\n",
    "year = 2000\n",
    "\n",
    "path = '/media/synology3/cmip6/ec-earth3-'+scenario+'/'\n",
    "pdirs = []\n",
    "udirs = []\n",
    "vdirs = []\n",
    "for file in os.listdir(path):\n",
    "    if file.startswith('.') or file.startswith('wget'):\n",
    "        continue\n",
    "    else:\n",
    "        if int(file.split('_')[-1][:4])==year:\n",
    "            if file.startswith('uas'):\n",
    "                udirs.append(file)\n",
    "            elif file.startswith('vas'):\n",
    "                vdirs.append(file)\n",
    "            elif file.startswith('pr'):\n",
    "                pdirs.append(file)\n",
    "udirs = sorted(udirs)\n",
    "vdirs = sorted(vdirs)\n",
    "pdirs = sorted(pdirs)"
   ]
  },
  {
   "cell_type": "code",
   "execution_count": 14,
   "metadata": {},
   "outputs": [],
   "source": [
    "def flux_from_files(scenario,year):\n",
    "    path = '/media/synology3/cmip6/ec-earth3-'+scenario+'/'\n",
    "    pdirs = []\n",
    "    udirs = []\n",
    "    vdirs = []\n",
    "    for file in os.listdir(path):\n",
    "        if file.startswith('.') or file.startswith('wget'):\n",
    "            continue\n",
    "        else:\n",
    "            if int(file.split('-')[2][:4])==year:\n",
    "                if file.startswith('uas'):\n",
    "                    udirs.append(file)\n",
    "                elif file.startswith('vas'):\n",
    "                    vdirs.append(file)\n",
    "                elif file.startswith('pr'):\n",
    "                    pdirs.append(file)\n",
    "    udirs = sorted(udirs)\n",
    "    vdirs = sorted(vdirs)\n",
    "    pdirs = sorted(pdirs)\n",
    "\n",
    "    flag = []\n",
    "    if year==1850: # because some runs start early so make sure to take the shorter ones\n",
    "        temp = xr.open_dataset(path+udirs[-1])\n",
    "    else:\n",
    "        temp = xr.open_dataset(path+udirs[0])\n",
    "        \n",
    "    t = np.asarray(temp.time).astype('float')*1e-9\n",
    "    q = np.empty((len(udirs),2,len(t),len(Dunefield_tileinds)))\n",
    "    for k in range(len(udirs)):\n",
    "        try:\n",
    "            p = np.asarray(xr.open_dataset(path+pdirs[k]).pr)\n",
    "        except:\n",
    "            p = np.ones(np.shape(xr.open_dataset(path+pdirs[k]).pr))*np.nan\n",
    "            flag.append('p %d'%k)\n",
    "        try:\n",
    "            u = np.asarray(xr.open_dataset(path+udirs[k]).uas)\n",
    "        except:\n",
    "            u = np.ones(np.shape(xr.open_dataset(path+udirs[k]).uas))*np.nan\n",
    "            flag.append('u %d'%k)\n",
    "        try:    \n",
    "            v = np.asarray(xr.open_dataset(path+vdirs[k]).vas)\n",
    "        except:\n",
    "            v = np.ones(np.shape(xr.open_dataset(path+vdirs[k]).vas))*np.nan\n",
    "            flag.append('v %d'%k)        \n",
    "\n",
    "        if len(p)<len(t):\n",
    "            temp = np.repeat(p[np.newaxis,0],np.abs(len(t)-len(p)),axis=0)\n",
    "            p = np.concatenate((temp,p))\n",
    "            flag.append('p<t %d'%k)\n",
    "        if len(u)<len(t):\n",
    "            temp = np.repeat(u[np.newaxis,0],np.abs(len(t)-len(u)),axis=0)\n",
    "            u = np.concatenate((temp,u))\n",
    "            flag.append('u<t %d'%k)\n",
    "        if len(v)<len(t):\n",
    "            temp = np.repeat(v[np.newaxis,0],np.abs(len(t)-len(v)),axis=0)\n",
    "            v = np.concatenate((temp,v))\n",
    "            flag.append('v<t %d'%k)\n",
    "\n",
    "        if len(p)>len(t):\n",
    "            if year==1850:\n",
    "                p = p[np.abs(len(t)-len(p)):]\n",
    "            else:\n",
    "                p = p[:-np.abs(len(t)-len(p))]\n",
    "            flag.append('p>t %d'%k)\n",
    "        if len(u)>len(t):\n",
    "            if year==1850:\n",
    "                u = u[np.abs(len(t)-len(u)):]\n",
    "            else:\n",
    "                u = u[:-np.abs(len(t)-len(u))]\n",
    "            flag.append('u>t %d'%k)\n",
    "        if len(v)>len(t):\n",
    "            if year==1850:\n",
    "                v = v[np.abs(len(t)-len(v)):]\n",
    "            else:\n",
    "                v = v[:-np.abs(len(t)-len(v))]\n",
    "            flag.append('v>t %d'%k)\n",
    "\n",
    "        q[k] = get_flux(p[:,Dunefield_tileinds[:,1],Dunefield_tileinds[:,0]],\n",
    "                    u[:,Dunefield_tileinds[:,1],Dunefield_tileinds[:,0]],\n",
    "                    v[:,Dunefield_tileinds[:,1],Dunefield_tileinds[:,0]],z,g,rho_f,z0,kappa,fluxconstant,usimth,pth)\n",
    "\n",
    "        print('%d of %d runs loaded'%((k+1),len(udirs)),end='\\r')\n",
    "    \n",
    "    return q,t,flag"
   ]
  },
  {
   "cell_type": "markdown",
   "metadata": {},
   "source": [
    "# Define constants"
   ]
  },
  {
   "cell_type": "code",
   "execution_count": 15,
   "metadata": {},
   "outputs": [],
   "source": [
    "d     = 300e-6\n",
    "z     = 10\n",
    "g     = 9.8\n",
    "z0    = 1e-3\n",
    "rho_s = 2650\n",
    "rho_f = 1.2\n",
    "kappa = 0.4\n",
    "\n",
    "fluxconstant      = 5\n",
    "thresholdconstant = 0.082\n",
    "\n",
    "usimth = get_impact_threshold(d,g,rho_f,rho_s,thresholdconstant)\n",
    "pth    = 1e-4"
   ]
  },
  {
   "cell_type": "code",
   "execution_count": 16,
   "metadata": {},
   "outputs": [],
   "source": [
    "with open('ec-earth3-firstdim-info.pkl', 'rb') as f:\n",
    "    _,Dunefield_tileinds,_,_ = pickle.load(f)"
   ]
  },
  {
   "cell_type": "markdown",
   "metadata": {},
   "source": [
    "# Initialize & process data"
   ]
  },
  {
   "cell_type": "code",
   "execution_count": 17,
   "metadata": {},
   "outputs": [],
   "source": [
    "scenarios = ['historical','ssp126','ssp245','ssp370','ssp585']\n",
    "years = [range(1850,2014+1),range(2015,2100+1),range(2015,2100+1),range(2015,2100+1),range(2015,2100+1)]"
   ]
  },
  {
   "cell_type": "code",
   "execution_count": 7,
   "metadata": {},
   "outputs": [
    {
     "name": "stdout",
     "output_type": "stream",
     "text": [
      "165 of 165 years loaded\r"
     ]
    }
   ],
   "source": [
    "for i in range(len(scenarios)):\n",
    "    for j in range(len(years[i])):\n",
    "        q,t,flag = flux_from_files(scenarios[i],years[i][j])\n",
    "        with open('/media/synology3/cmip6/ec-earth3-flux-processed/'+scenarios[i]+'-'+str(years[i][j])+'.pkl', 'wb') as f:\n",
    "            pickle.dump((q,t,flag),f)\n",
    "        print('%d of %d years loaded'%((j+1),len(years[i])),end='\\r')"
   ]
  }
 ],
 "metadata": {
  "kernelspec": {
   "display_name": "Python 3",
   "language": "python",
   "name": "python3"
  },
  "language_info": {
   "codemirror_mode": {
    "name": "ipython",
    "version": 3
   },
   "file_extension": ".py",
   "mimetype": "text/x-python",
   "name": "python",
   "nbconvert_exporter": "python",
   "pygments_lexer": "ipython3",
   "version": "3.6.9"
  },
  "toc": {
   "base_numbering": 1,
   "nav_menu": {},
   "number_sections": true,
   "sideBar": true,
   "skip_h1_title": false,
   "title_cell": "Table of Contents",
   "title_sidebar": "Contents",
   "toc_cell": false,
   "toc_position": {},
   "toc_section_display": true,
   "toc_window_display": false
  },
  "varInspector": {
   "cols": {
    "lenName": 16,
    "lenType": 16,
    "lenVar": 40
   },
   "kernels_config": {
    "python": {
     "delete_cmd_postfix": "",
     "delete_cmd_prefix": "del ",
     "library": "var_list.py",
     "varRefreshCmd": "print(var_dic_list())"
    },
    "r": {
     "delete_cmd_postfix": ") ",
     "delete_cmd_prefix": "rm(",
     "library": "var_list.r",
     "varRefreshCmd": "cat(var_dic_list()) "
    }
   },
   "types_to_exclude": [
    "module",
    "function",
    "builtin_function_or_method",
    "instance",
    "_Feature"
   ],
   "window_display": false
  }
 },
 "nbformat": 4,
 "nbformat_minor": 4
}
