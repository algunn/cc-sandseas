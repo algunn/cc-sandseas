{
 "cells": [
  {
   "cell_type": "markdown",
   "metadata": {},
   "source": [
    "# Import Packages"
   ]
  },
  {
   "cell_type": "code",
   "execution_count": 1,
   "metadata": {},
   "outputs": [],
   "source": [
    "from zipfile import ZipFile\n",
    "import xml.sax, xml.sax.handler\n",
    "import numpy as np\n",
    "import pickle\n",
    "import xarray as xr\n",
    "from shapely.geometry import Polygon, LineString\n",
    "import utm\n",
    "from pyproj import Proj\n",
    "import matplotlib.pyplot as plt\n",
    "import matplotlib.colors as colors\n",
    "plt.rcParams['figure.figsize'] = 18, 9\n",
    "plt.rcParams['figure.facecolor'] = 'white'"
   ]
  },
  {
   "cell_type": "markdown",
   "metadata": {},
   "source": [
    "# Define functions"
   ]
  },
  {
   "cell_type": "code",
   "execution_count": 2,
   "metadata": {},
   "outputs": [],
   "source": [
    "class PlacemarkHandler(xml.sax.handler.ContentHandler):\n",
    "    def __init__(self):\n",
    "        self.inName = False # handle XML parser events\n",
    "        self.inPlacemark = False\n",
    "        self.mapping = {} \n",
    "        self.buffer = \"\"\n",
    "        self.name_tag = \"\"\n",
    "        \n",
    "    def startElement(self, name, attributes):\n",
    "        if name == \"Placemark\": # on start Placemark tag\n",
    "            self.inPlacemark = True\n",
    "            self.buffer = \"\" \n",
    "        if self.inPlacemark:\n",
    "            if name == \"name\": # on start title tag\n",
    "                self.inName = True # save name text to follow\n",
    "            \n",
    "    def characters(self, data):\n",
    "        if self.inPlacemark: # on text within tag\n",
    "            self.buffer += data # save text if in title\n",
    "            \n",
    "    def endElement(self, name):\n",
    "        self.buffer = self.buffer.strip('\\n\\t')\n",
    "        \n",
    "        if name == \"Placemark\":\n",
    "            self.inPlacemark = False\n",
    "            self.name_tag = \"\" #clear current name\n",
    "        \n",
    "        elif name == \"name\" and self.inPlacemark:\n",
    "            self.inName = False # on end title tag            \n",
    "            self.name_tag = self.buffer.strip()\n",
    "            self.mapping[self.name_tag] = {}\n",
    "        elif self.inPlacemark:\n",
    "            if name in self.mapping[self.name_tag]:\n",
    "                self.mapping[self.name_tag][name] += self.buffer\n",
    "            else:\n",
    "                self.mapping[self.name_tag][name] = self.buffer\n",
    "        self.buffer = \"\"\n",
    "        \n",
    "def build_table(mapping):\n",
    "    sep = ','\n",
    "        \n",
    "    output = 'Name' + sep + 'Coordinates\\n'\n",
    "    points = ''\n",
    "    lines = ''\n",
    "    shapes = ''\n",
    "    for key in mapping:\n",
    "        coord_str = mapping[key]['coordinates'] + sep\n",
    "        \n",
    "        if 'LookAt' in mapping[key]: #points\n",
    "            points += key + sep + coord_str + \"\\n\"\n",
    "        elif 'LineString' in mapping[key]: #lines\n",
    "            lines += key + sep + coord_str + \"\\n\"\n",
    "        else: #shapes\n",
    "            shapes += key + sep + coord_str + \"\\n\"\n",
    "    output += points + lines + shapes\n",
    "    return output"
   ]
  },
  {
   "cell_type": "code",
   "execution_count": 3,
   "metadata": {},
   "outputs": [],
   "source": [
    "# parse the kmz\n",
    "kmz = ZipFile('dunefields.kmz', 'r')\n",
    "kml = kmz.open('doc.kml', 'r')\n",
    "parser = xml.sax.make_parser()\n",
    "handler = PlacemarkHandler()\n",
    "parser.setContentHandler(handler)\n",
    "parser.parse(kml)\n",
    "kmz.close()\n",
    "\n",
    "# loop through dune fields\n",
    "for i in np.arange(0,np.shape(list(handler.mapping))[0]):\n",
    "    coords = handler.mapping[list(handler.mapping)[i]][\"coordinates\"]\n",
    "    my_list = coords.split(\",\")\n",
    "\n",
    "    # restructure string of coordinates into a useful array\n",
    "    verts = my_list[:-1]\n",
    "    vertsclean = np.empty([int(np.shape(verts)[0]/2),2])\n",
    "    for j in np.arange(0,np.shape(verts)[0]):\n",
    "        # deal with janky save structure of .kmz\n",
    "        verts[j]=verts[j].replace('0 ','')\n",
    "        verts[j]=verts[j].replace('0-','-')\n",
    "        if j%2==0:\n",
    "            vertsclean[int(j/2),0] = verts[j]\n",
    "        else:\n",
    "            vertsclean[int(j/2),1] = verts[j]\n",
    "    # now have a coordinate array for the points of the boundary of each dune field\n",
    "    vertups = np.asarray(vertsclean)\n",
    "\n",
    "    # save each as a pickle\n",
    "    with open('dunefields/df%d_verts.pkl'%i, 'wb') as f:\n",
    "        pickle.dump(vertups, f)"
   ]
  },
  {
   "cell_type": "markdown",
   "metadata": {},
   "source": [
    "# Load dune-field maps"
   ]
  },
  {
   "cell_type": "code",
   "execution_count": 4,
   "metadata": {},
   "outputs": [],
   "source": [
    "Ndunefields = 45 #-1 for loops\n",
    "dunefields = []\n",
    "dunefields_avlat = np.empty(Ndunefields)\n",
    "dunefields_avlon = np.empty(Ndunefields)\n",
    "dunefields_area  = np.empty(Ndunefields)\n",
    "for i in range(Ndunefields):\n",
    "    with open('dunefields/df%d_verts.pkl'%i, 'rb') as f:\n",
    "        vertups = pickle.load(f) # lon,lat\n",
    "\n",
    "    utmzone = np.empty(np.shape(vertups)[0])\n",
    "    for k in np.arange(0,np.shape(vertups)[0]):\n",
    "        utmzone[k] = utm.from_latlon(vertups[k][1],vertups[k][0])[2]\n",
    "\n",
    "    lonlat2xy = Proj(proj='utm',zone=int(np.median(utmzone)),ellps='WGS84')\n",
    "    x, y = lonlat2xy(vertups[:,0], vertups[:,1])\n",
    "    XY = np.asarray([x,y])\n",
    "    dunefields_area[i] = Polygon(XY.T).area\n",
    "    \n",
    "    vertups[:,0] += 180\n",
    "    dunefields.append(Polygon(vertups))\n",
    "    dunefields_avlat[i] = dunefields[i].centroid.coords.xy[1][0]\n",
    "    dunefields_avlon[i] = dunefields[i].centroid.coords.xy[0][0]"
   ]
  },
  {
   "cell_type": "markdown",
   "metadata": {},
   "source": [
    "# Test maps and grab tiles for each dune field"
   ]
  },
  {
   "cell_type": "code",
   "execution_count": 5,
   "metadata": {},
   "outputs": [],
   "source": [
    "field = xr.open_dataset('tslsi_day_EC-Earth3_historical_r1i1p1f1_gr_18500101-18501231.nc')"
   ]
  },
  {
   "cell_type": "code",
   "execution_count": 6,
   "metadata": {},
   "outputs": [],
   "source": [
    "lonM = np.asarray(field.lon)\n",
    "lonD = np.diff(lonM)[0]/2\n",
    "latM = np.asarray(field.lat)\n",
    "latD = np.diff(latM)[0]/2\n",
    "\n",
    "tiles = [[None for _ in range(len(latM))] for _ in range(len(lonM))]\n",
    "\n",
    "for i in range(len(lonM)):\n",
    "    for j in range(len(latM)):\n",
    "        tiles[i][j] = Polygon([[lonM[i]+lonD,latM[j]+latD],\n",
    "                               [lonM[i]-lonD,latM[j]+latD],\n",
    "                               [lonM[i]-lonD,latM[j]-latD],\n",
    "                               [lonM[i]+lonD,latM[j]-latD]])\n",
    "\n",
    "tilefractionth = 0.0\n",
    "\n",
    "Dunefield_dfinds = []\n",
    "Dunefield_tileinds = []\n",
    "Dunefield_tilelonlat = []\n",
    "Dunefield_tilefractions = []\n",
    "    \n",
    "for k in range(Ndunefields):\n",
    "    dunefield_dfinds = []\n",
    "    dunefield_tileinds = []\n",
    "    dunefield_tilelonlat = []\n",
    "    dunefield_tilefractions = []\n",
    "    for i in range(len(lonM)):\n",
    "        for j in range(len(latM)):\n",
    "            if tiles[i][j].overlaps(dunefields[k]):\n",
    "                if tiles[i][j].intersection(dunefields[k]).area/tiles[i][j].area > tilefractionth:\n",
    "                    dunefield_dfinds.append(k)\n",
    "                    dunefield_tileinds.append([i,j])\n",
    "                    dunefield_tilelonlat.append([lonM[i],latM[j]])\n",
    "                    dunefield_tilefractions.append(tiles[i][j].intersection(dunefields[k]).area/tiles[i][j].area)\n",
    "            elif tiles[i][j].within(dunefields[k]):\n",
    "                dunefield_dfinds.append(k)\n",
    "                dunefield_tileinds.append([i,j])\n",
    "                dunefield_tilelonlat.append([lonM[i],latM[j]])\n",
    "                dunefield_tilefractions.append(1)\n",
    "    dunefield_tilefractions = np.asarray(dunefield_tilefractions)\n",
    "    Dunefield_dfinds.append(dunefield_dfinds)\n",
    "    Dunefield_tileinds.append(dunefield_tileinds)\n",
    "    Dunefield_tilelonlat.append(dunefield_tilelonlat)\n",
    "    Dunefield_tilefractions.append(dunefield_tilefractions)"
   ]
  },
  {
   "cell_type": "code",
   "execution_count": 7,
   "metadata": {},
   "outputs": [
    {
     "data": {
      "text/plain": [
       "(224.05078125, 237.19921875, 15.582152599529369, 28.73059009952937)"
      ]
     },
     "execution_count": 7,
     "metadata": {},
     "output_type": "execute_result"
    },
    {
     "data": {
      "image/png": "[encoded data removed]",
      "text/plain": [
       "<Figure size 432x288 with 1 Axes>"
      ]
     },
     "metadata": {
      "needs_background": "light"
     },
     "output_type": "display_data"
    }
   ],
   "source": [
    "i = 11\n",
    "plt.plot(dunefields[i].exterior.coords.xy[0],\n",
    "            dunefields[i].exterior.coords.xy[1])\n",
    "plt.scatter(dunefields_avlon[i],dunefields_avlat[i])\n",
    "for k in range(len(Dunefield_tileinds[i])):\n",
    "    plt.plot(tiles[Dunefield_tileinds[i][k][0]][Dunefield_tileinds[i][k][1]].exterior.coords.xy[0],\n",
    "                tiles[Dunefield_tileinds[i][k][0]][Dunefield_tileinds[i][k][1]].exterior.coords.xy[1])\n",
    "plt.axis('square')"
   ]
  },
  {
   "cell_type": "code",
   "execution_count": 8,
   "metadata": {},
   "outputs": [],
   "source": [
    "Dunefield_dfinds = np.hstack(Dunefield_dfinds)\n",
    "Dunefield_tileinds = np.vstack(Dunefield_tileinds)\n",
    "Dunefield_tilelonlat = np.vstack(Dunefield_tilelonlat)\n",
    "Dunefield_tilefractions = np.hstack(Dunefield_tilefractions)\n",
    "\n",
    "with open('ec-earth3-firstdim-info.pkl', 'wb') as f:\n",
    "    pickle.dump((Dunefield_dfinds,Dunefield_tileinds,Dunefield_tilelonlat,Dunefield_tilefractions),f)"
   ]
  }
 ],
 "metadata": {
  "kernelspec": {
   "display_name": "Python 3",
   "language": "python",
   "name": "python3"
  },
  "language_info": {
   "codemirror_mode": {
    "name": "ipython",
    "version": 3
   },
   "file_extension": ".py",
   "mimetype": "text/x-python",
   "name": "python",
   "nbconvert_exporter": "python",
   "pygments_lexer": "ipython3",
   "version": "3.6.9"
  },
  "toc": {
   "base_numbering": 1,
   "nav_menu": {},
   "number_sections": true,
   "sideBar": true,
   "skip_h1_title": false,
   "title_cell": "Table of Contents",
   "title_sidebar": "Contents",
   "toc_cell": false,
   "toc_position": {},
   "toc_section_display": true,
   "toc_window_display": false
  },
  "varInspector": {
   "cols": {
    "lenName": 16,
    "lenType": 16,
    "lenVar": 40
   },
   "kernels_config": {
    "python": {
     "delete_cmd_postfix": "",
     "delete_cmd_prefix": "del ",
     "library": "var_list.py",
     "varRefreshCmd": "print(var_dic_list())"
    },
    "r": {
     "delete_cmd_postfix": ") ",
     "delete_cmd_prefix": "rm(",
     "library": "var_list.r",
     "varRefreshCmd": "cat(var_dic_list()) "
    }
   },
   "types_to_exclude": [
    "module",
    "function",
    "builtin_function_or_method",
    "instance",
    "_Feature"
   ],
   "window_display": false
  }
 },
 "nbformat": 4,
 "nbformat_minor": 4
}
